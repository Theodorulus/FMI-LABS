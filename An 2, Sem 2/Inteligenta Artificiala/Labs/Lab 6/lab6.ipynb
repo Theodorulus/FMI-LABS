{
  "nbformat": 4,
  "nbformat_minor": 0,
  "metadata": {
    "colab": {
      "name": "lab6.ipynb",
      "provenance": [],
      "collapsed_sections": []
    },
    "kernelspec": {
      "name": "python3",
      "display_name": "Python 3"
    },
    "language_info": {
      "name": "python"
    }
  },
  "cells": [
    {
      "cell_type": "code",
      "metadata": {
        "id": "Lf3LIZw6BMLk"
      },
      "source": [
        "import numpy as np\n",
        "from sklearn.utils import shuffle as shuffle_arrays"
      ],
      "execution_count": 16,
      "outputs": []
    },
    {
      "cell_type": "code",
      "metadata": {
        "id": "QYh8PHvyExze"
      },
      "source": [
        "# antreneaza un perceptron folosind widrow-hoff\n",
        "# returneaza W, b antrenate\n",
        "# X_train - datele de antrenare\n",
        "# y_train - etichete de antrenare\n",
        "# shuffle - daca vrem sa amestecam datele la inceputul fiecarei epoci\n",
        "# verbose - daca vrem sa afisam acuratetea pe multumea de antrenare dupa fiecare epoca\n",
        "\n",
        "#1\n",
        "\n",
        "def train(X_train, y_train, epochs = 5, learning_rate = 0.01, shuffle = True, verbose = True):\n",
        "  W = np.zeros(X_train.shape[1])\n",
        "  b = 0\n",
        "  for i in range(epochs):\n",
        "    sum_loss = 0\n",
        "    if shuffle:\n",
        "      X_train, y_train = shuffle_arrays(X_train, y_train, random_state = 0)\n",
        "    for t in range(X_train.shape[0]):\n",
        "      y_pred = X_train[t].dot(W) + b\n",
        "      loss = (y_pred - y_train[t]) * (y_pred - y_train[t]) / 2\n",
        "      W = W - learning_rate * (y_pred - y_train[t]) * X_train[t]\n",
        "      b = b - learning_rate * (y_pred - y_train[t])\n",
        "\n",
        "      sum_loss += loss\n",
        "      \n",
        "      if verbose:\n",
        "        print(sum_loss)\n",
        "  return W, b"
      ],
      "execution_count": 17,
      "outputs": []
    },
    {
      "cell_type": "code",
      "metadata": {
        "colab": {
          "base_uri": "https://localhost:8080/",
          "height": 214
        },
        "id": "Lv6FkusoG5WZ",
        "outputId": "4e387dd8-1eea-4bb0-b0b0-4164513d2f41"
      },
      "source": [
        "from sklearn.datasets import load_breast_cancer\n",
        "from sklearn.preprocessing import StandardScaler\n",
        "\n",
        "data = load_breast_cancer()\n",
        "X_train, y_train = data.data, data.target\n",
        "\n",
        "scaler = StandardScaler()\n",
        "X_train = scaler.fit_transform(X_train)\n",
        "train(X_train, y_train, epochs = 10, learning_rate = 0.01, shuffle = True, verbose = True)"
      ],
      "execution_count": 24,
      "outputs": [
        {
          "output_type": "error",
          "ename": "AttributeError",
          "evalue": "ignored",
          "traceback": [
            "\u001b[0;31m---------------------------------------------------------------------------\u001b[0m",
            "\u001b[0;31mAttributeError\u001b[0m                            Traceback (most recent call last)",
            "\u001b[0;32m<ipython-input-24-7eed85e66955>\u001b[0m in \u001b[0;36m<module>\u001b[0;34m()\u001b[0m\n\u001b[1;32m      6\u001b[0m \u001b[0;34m\u001b[0m\u001b[0m\n\u001b[1;32m      7\u001b[0m \u001b[0mscaler\u001b[0m \u001b[0;34m=\u001b[0m \u001b[0mStandardScaler\u001b[0m\u001b[0;34m(\u001b[0m\u001b[0;34m)\u001b[0m\u001b[0;34m\u001b[0m\u001b[0;34m\u001b[0m\u001b[0m\n\u001b[0;32m----> 8\u001b[0;31m \u001b[0mX_train\u001b[0m \u001b[0;34m=\u001b[0m \u001b[0mscaler\u001b[0m\u001b[0;34m.\u001b[0m\u001b[0mfit_transfdorm\u001b[0m\u001b[0;34m(\u001b[0m\u001b[0mX_train\u001b[0m\u001b[0;34m)\u001b[0m\u001b[0;34m\u001b[0m\u001b[0;34m\u001b[0m\u001b[0m\n\u001b[0m\u001b[1;32m      9\u001b[0m \u001b[0mtrain\u001b[0m\u001b[0;34m(\u001b[0m\u001b[0mX_train\u001b[0m\u001b[0;34m,\u001b[0m \u001b[0my_train\u001b[0m\u001b[0;34m,\u001b[0m \u001b[0mepochs\u001b[0m \u001b[0;34m=\u001b[0m \u001b[0;36m10\u001b[0m\u001b[0;34m,\u001b[0m \u001b[0mlearning_rate\u001b[0m \u001b[0;34m=\u001b[0m \u001b[0;36m0.01\u001b[0m\u001b[0;34m,\u001b[0m \u001b[0mshuffle\u001b[0m \u001b[0;34m=\u001b[0m \u001b[0;32mTrue\u001b[0m\u001b[0;34m,\u001b[0m \u001b[0mverbose\u001b[0m \u001b[0;34m=\u001b[0m \u001b[0;32mTrue\u001b[0m\u001b[0;34m)\u001b[0m\u001b[0;34m\u001b[0m\u001b[0;34m\u001b[0m\u001b[0m\n",
            "\u001b[0;31mAttributeError\u001b[0m: 'StandardScaler' object has no attribute 'fit_transfdorm'"
          ]
        }
      ]
    },
    {
      "cell_type": "code",
      "metadata": {
        "id": "a4MmtQE0LbRV"
      },
      "source": [
        "#2\n",
        "\n",
        "import matplotlib.pyplot as plt\n",
        "def compute_y(x, W, bias):\n",
        "    # dreapta de decizie\n",
        "    # [x, y] * [W[0], W[1]] + b = 0\n",
        "    return (-x * W[0] - bias) / (W[1] + 1e-10)\n",
        "def plot_decision_boundary(X, y , W, b, current_x, current_y):\n",
        "    x1 = -0.5\n",
        "    y1 = compute_y(x1, W, b)\n",
        "    x2 = 0.5\n",
        "    y2 = compute_y(x2, W, b)\n",
        "    # sterge continutul ferestrei\n",
        "    plt.clf()\n",
        "    # ploteaza multimea de antrenare\n",
        "    color = 'r'\n",
        "    if current_y == -1:\n",
        "        color = 'b'\n",
        "    plt.ylim((-1, 2))\n",
        "    plt.xlim((-1, 2))\n",
        "    plt.plot(X[y == -1, 0], X[y == -1, 1], 'b+')\n",
        "    plt.plot(X[y == 1, 0], X[y == 1, 1], 'r+')\n",
        "\n",
        "    # ploteaza exemplul curent\n",
        "    plt.plot(current_x[0], current_x[1], color+'s')\n",
        "\n",
        "    # afisarea dreptei de decizie\n",
        "    plt.plot([x1, x2] ,[y1, y2], 'black')\n",
        "    plt.show(block=False)\n",
        "    plt.pause(0.3)\n",
        "\n",
        "\n",
        "\n"
      ],
      "execution_count": 25,
      "outputs": []
    },
    {
      "cell_type": "code",
      "metadata": {
        "id": "308_QOEvMUnq"
      },
      "source": [
        "def train(X_train, y_train,epochs = 70, learning_rate = 0.1, shuffle=True, verbose=True):\n",
        "    W = np.zeros(X_train.shape[1])\n",
        "    b = 0\n",
        "    for i in range(epochs):\n",
        "        sum_loss = 0\n",
        "        if shuffle:\n",
        "            X_train, y_train = shuffle_arrays(X_train, y_train, random_state=0)\n",
        "        for t in range(X_train.shape[1]):\n",
        "            y_pred = X_train[t].dot(W) + b\n",
        "            loss = (y_pred - y_train[t]) * (y_pred - y_train[t]) / 2\n",
        "            W = W - learning_rate * (y_pred - y_train[t]) * X_train[t]\n",
        "            b = b - learning_rate * (y_pred - y_train[t])\n",
        "\n",
        "            plot_decision_boundary(X_train, y_train ,W,b, X_train[t], y_train[t])\n",
        "\n",
        "            sum_loss += loss\n",
        "\n",
        "        if verbose:\n",
        "            print (sum_loss)\n",
        "\n",
        "    return W, b"
      ],
      "execution_count": 34,
      "outputs": []
    },
    {
      "cell_type": "code",
      "metadata": {
        "colab": {
          "base_uri": "https://localhost:8080/",
          "height": 197
        },
        "id": "9yvRqNgtMWH4",
        "outputId": "35a2045c-6c30-4b61-e10d-faffbfa47370"
      },
      "source": [
        "X = np.array([ [0, 0], [0, 1], [1, 0], [1, 1]])\n",
        "y = np.array([-1, 1, 1, 1])\n",
        "\n",
        "train(X, y)"
      ],
      "execution_count": 36,
      "outputs": [
        {
          "output_type": "error",
          "ename": "NameError",
          "evalue": "ignored",
          "traceback": [
            "\u001b[0;31m---------------------------------------------------------------------------\u001b[0m",
            "\u001b[0;31mNameError\u001b[0m                                 Traceback (most recent call last)",
            "\u001b[0;32m<ipython-input-36-64f6bceec4f9>\u001b[0m in \u001b[0;36m<module>\u001b[0;34m()\u001b[0m\n\u001b[1;32m      2\u001b[0m \u001b[0my\u001b[0m \u001b[0;34m=\u001b[0m \u001b[0mnp\u001b[0m\u001b[0;34m.\u001b[0m\u001b[0marray\u001b[0m\u001b[0;34m(\u001b[0m\u001b[0;34m[\u001b[0m\u001b[0;34m-\u001b[0m\u001b[0;36m1\u001b[0m\u001b[0;34m,\u001b[0m \u001b[0;36m1\u001b[0m\u001b[0;34m,\u001b[0m \u001b[0;36m1\u001b[0m\u001b[0;34m,\u001b[0m \u001b[0;36m1\u001b[0m\u001b[0;34m]\u001b[0m\u001b[0;34m)\u001b[0m\u001b[0;34m\u001b[0m\u001b[0;34m\u001b[0m\u001b[0m\n\u001b[1;32m      3\u001b[0m \u001b[0;34m\u001b[0m\u001b[0m\n\u001b[0;32m----> 4\u001b[0;31m \u001b[0mtrain\u001b[0m\u001b[0;34m(\u001b[0m\u001b[0mX\u001b[0m\u001b[0;34m,\u001b[0m \u001b[0mya\u001b[0m\u001b[0;34m)\u001b[0m\u001b[0;34m\u001b[0m\u001b[0;34m\u001b[0m\u001b[0m\n\u001b[0m",
            "\u001b[0;31mNameError\u001b[0m: name 'ya' is not defined"
          ]
        }
      ]
    },
    {
      "cell_type": "code",
      "metadata": {
        "colab": {
          "base_uri": "https://localhost:8080/",
          "height": 350
        },
        "id": "GopfGBcAT2GL",
        "outputId": "eece291e-d3c7-4381-a10e-254d86da7d41"
      },
      "source": [
        "#3\n",
        "miu = 0.0\n",
        "sigma = 1.0\n",
        "num_hidden_neurons = 5\n",
        "\n",
        "W_1 = np.random.normal(miu, sigma, (2, num_hidden_neurons)) \n",
        "# generam aleator matricea ponderilor stratului ascuns (2 - dimensiunea datelor de intrare, num_hidden_neurons - numarul neuronilor de pe stratul ascuns), cu media miu si deviatia standard sigma. \n",
        "b_1 = np.zeros(num_hidden_neurons) \n",
        "# initializam bias-ul cu 0 \n",
        "W_2 = np.random.normal(miu, sigma, (num_hidden_neurons, 1)) \n",
        "# generam aleator matricea ponderilor stratului de iesire (num_hidden_neurons - numarul neuronilor de pe stratul ascuns, 1 - un neuron pe stratul de iesire), cu media miu si deviatia standard sigma. \n",
        "b_2 = np.zeros(1) # initializam bias-ul cu 0\n",
        "\n",
        "def signoid(x):\n",
        "  return 1.0 / (1.0 + np.exp(-x))\n",
        "\n",
        "def tanh_derivative(x):\n",
        "  return 1.0 - np.tanh(x) * np.tanh(x)\n",
        "\n",
        "def forward(X, W_1, b_1, W_2, b_2):\n",
        "  z_1 = X.dot(W_1) + b_1\n",
        "  a_1 = np.tanh(z_1)\n",
        "\n",
        "  z_2 = x1 = a_1.dot(W_2) + b_2\n",
        "  a_2 = signoid(z_2)\n",
        "\n",
        "  return z_1, a_1, z_2, a_2\n",
        "\n",
        "# forward(X, W_1, b_1, W_2, b_2) -> testare\n",
        "\n",
        "def backward(a_1, a_2, z_1, W_2, X, Y, num_samples):\n",
        "  dz_2 = a_2 - y # derivata functiei de pierdere (logistic loss) in functie de z \n",
        "  dw_2 = (a_1.T * dz_2) / num_samples # der(L/w_2) = der(L/z_2) * der(dz_2/w_2) = dz_2 * der((a_1 * W_2 + b_2)/ W_2) \n",
        "  db_2 = sum(dz_2) / num_samples # der(L/b_2) = der(L/z_2) * der(z_2/b_2) = dz_2 * der((a_1 * W_2 + b_2)/ b_2) # primul strat \n",
        "  da_1 = dz_2 * W_2.T # der(L/a_1) = der(L/z_2) * der(z_2/a_1) = dz_2 * der((a_1 * W_2 + b_2)/ a_1) \n",
        "  dz_1 = da_1 * tanh_derivative(z_1) # der(L/z_1) = der(L/a_1) * der(a_1/z1) = da_1 .* der((tanh(z_1))/ z_1) \n",
        "  dw_1 = X.T * dz_1 / num_samples # der(L/w_1) = der(L/z_1) * der(z_1/w_1) = dz_1 * der((X * W_1 + b_1)/ W_1) \n",
        "  db_1 = sum(dz_1) / num_samples # der(L/b_1) = der(L/z_1) * der(z_1/b_1) = dz_1 * der((X * W_1 + b_1)/ b_1) \n",
        "  return dw_1, db_1, dw_2, db_2\n",
        "\n",
        "z_1, a_1, z_2, a_2 = forward(X, W_1, b_1, W_2, b_2)\n",
        "loss = (-y * np.log(a_2) - (1 - y) * np.log(1 - a_2)).mean()\n",
        "accuracy = (np.round(a_2) == y).mean()\n",
        "\n",
        "#print(backward(a_1, a_2, z_1, W_2, X, y, len(X)))\n",
        "\n",
        "print(accuracy)\n",
        "\n",
        "def train_"
      ],
      "execution_count": 54,
      "outputs": [
        {
          "output_type": "error",
          "ename": "ValueError",
          "evalue": "ignored",
          "traceback": [
            "\u001b[0;31m---------------------------------------------------------------------------\u001b[0m",
            "\u001b[0;31mValueError\u001b[0m                                Traceback (most recent call last)",
            "\u001b[0;32m<ipython-input-54-fd66da55333c>\u001b[0m in \u001b[0;36m<module>\u001b[0;34m()\u001b[0m\n\u001b[1;32m     43\u001b[0m \u001b[0maccuracy\u001b[0m \u001b[0;34m=\u001b[0m \u001b[0;34m(\u001b[0m\u001b[0mnp\u001b[0m\u001b[0;34m.\u001b[0m\u001b[0mround\u001b[0m\u001b[0;34m(\u001b[0m\u001b[0ma_2\u001b[0m\u001b[0;34m)\u001b[0m \u001b[0;34m==\u001b[0m \u001b[0my\u001b[0m\u001b[0;34m)\u001b[0m\u001b[0;34m.\u001b[0m\u001b[0mmean\u001b[0m\u001b[0;34m(\u001b[0m\u001b[0;34m)\u001b[0m\u001b[0;34m\u001b[0m\u001b[0;34m\u001b[0m\u001b[0m\n\u001b[1;32m     44\u001b[0m \u001b[0;34m\u001b[0m\u001b[0m\n\u001b[0;32m---> 45\u001b[0;31m \u001b[0mprint\u001b[0m\u001b[0;34m(\u001b[0m\u001b[0mbackward\u001b[0m\u001b[0;34m(\u001b[0m\u001b[0ma_1\u001b[0m\u001b[0;34m,\u001b[0m \u001b[0ma_2\u001b[0m\u001b[0;34m,\u001b[0m \u001b[0mz_1\u001b[0m\u001b[0;34m,\u001b[0m \u001b[0mW_2\u001b[0m\u001b[0;34m,\u001b[0m \u001b[0mX\u001b[0m\u001b[0;34m,\u001b[0m \u001b[0my\u001b[0m\u001b[0;34m,\u001b[0m \u001b[0mlen\u001b[0m\u001b[0;34m(\u001b[0m\u001b[0mX\u001b[0m\u001b[0;34m)\u001b[0m\u001b[0;34m)\u001b[0m\u001b[0;34m)\u001b[0m\u001b[0;34m\u001b[0m\u001b[0;34m\u001b[0m\u001b[0m\n\u001b[0m\u001b[1;32m     46\u001b[0m \u001b[0;34m\u001b[0m\u001b[0m\n\u001b[1;32m     47\u001b[0m \u001b[0mprint\u001b[0m\u001b[0;34m(\u001b[0m\u001b[0maccuracy\u001b[0m\u001b[0;34m)\u001b[0m\u001b[0;34m\u001b[0m\u001b[0;34m\u001b[0m\u001b[0m\n",
            "\u001b[0;32m<ipython-input-54-fd66da55333c>\u001b[0m in \u001b[0;36mbackward\u001b[0;34m(a_1, a_2, z_1, W_2, X, Y, num_samples)\u001b[0m\n\u001b[1;32m     31\u001b[0m \u001b[0;32mdef\u001b[0m \u001b[0mbackward\u001b[0m\u001b[0;34m(\u001b[0m\u001b[0ma_1\u001b[0m\u001b[0;34m,\u001b[0m \u001b[0ma_2\u001b[0m\u001b[0;34m,\u001b[0m \u001b[0mz_1\u001b[0m\u001b[0;34m,\u001b[0m \u001b[0mW_2\u001b[0m\u001b[0;34m,\u001b[0m \u001b[0mX\u001b[0m\u001b[0;34m,\u001b[0m \u001b[0mY\u001b[0m\u001b[0;34m,\u001b[0m \u001b[0mnum_samples\u001b[0m\u001b[0;34m)\u001b[0m\u001b[0;34m:\u001b[0m\u001b[0;34m\u001b[0m\u001b[0;34m\u001b[0m\u001b[0m\n\u001b[1;32m     32\u001b[0m   \u001b[0mdz_2\u001b[0m \u001b[0;34m=\u001b[0m \u001b[0ma_2\u001b[0m \u001b[0;34m-\u001b[0m \u001b[0my\u001b[0m \u001b[0;31m# derivata functiei de pierdere (logistic loss) in functie de z\u001b[0m\u001b[0;34m\u001b[0m\u001b[0;34m\u001b[0m\u001b[0m\n\u001b[0;32m---> 33\u001b[0;31m   \u001b[0mdw_2\u001b[0m \u001b[0;34m=\u001b[0m \u001b[0;34m(\u001b[0m\u001b[0ma_1\u001b[0m\u001b[0;34m.\u001b[0m\u001b[0mT\u001b[0m \u001b[0;34m*\u001b[0m \u001b[0mdz_2\u001b[0m\u001b[0;34m)\u001b[0m \u001b[0;34m/\u001b[0m \u001b[0mnum_samples\u001b[0m \u001b[0;31m# der(L/w_2) = der(L/z_2) * der(dz_2/w_2) = dz_2 * der((a_1 * W_2 + b_2)/ W_2)\u001b[0m\u001b[0;34m\u001b[0m\u001b[0;34m\u001b[0m\u001b[0m\n\u001b[0m\u001b[1;32m     34\u001b[0m   \u001b[0mdb_2\u001b[0m \u001b[0;34m=\u001b[0m \u001b[0msum\u001b[0m\u001b[0;34m(\u001b[0m\u001b[0mdz_2\u001b[0m\u001b[0;34m)\u001b[0m \u001b[0;34m/\u001b[0m \u001b[0mnum_samples\u001b[0m \u001b[0;31m# der(L/b_2) = der(L/z_2) * der(z_2/b_2) = dz_2 * der((a_1 * W_2 + b_2)/ b_2) # primul strat\u001b[0m\u001b[0;34m\u001b[0m\u001b[0;34m\u001b[0m\u001b[0m\n\u001b[1;32m     35\u001b[0m   \u001b[0mda_1\u001b[0m \u001b[0;34m=\u001b[0m \u001b[0mdz_2\u001b[0m \u001b[0;34m*\u001b[0m \u001b[0mW_2\u001b[0m\u001b[0;34m.\u001b[0m\u001b[0mT\u001b[0m \u001b[0;31m# der(L/a_1) = der(L/z_2) * der(z_2/a_1) = dz_2 * der((a_1 * W_2 + b_2)/ a_1)\u001b[0m\u001b[0;34m\u001b[0m\u001b[0;34m\u001b[0m\u001b[0m\n",
            "\u001b[0;31mValueError\u001b[0m: operands could not be broadcast together with shapes (5,4) (4,4) "
          ]
        }
      ]
    },
    {
      "cell_type": "code",
      "metadata": {
        "id": "u9t3krscUR3j"
      },
      "source": [
        "def train(X_train, y_train,epochs = 70, learning_rate = 0.1, shuffle=True, verbose=True):\n",
        "    W_1 = np.random.normal(miu, sigma, (2, num_hidden_neurons)) # generam aleator matricea ponderilor stratului ascuns (2 - dimensiunea datelor de intrare, num_hidden_neurons - numarul neuronilor de pe stratul ascuns), cu media miu si deviatia standard sigma. \n",
        "    b_1 = np.zeros(num_hidden_neurons) # initializam bias-ul cu 0 \n",
        "    W_2 = np.random.normal(miu, sigma, (num_hidden_neurons, 1)) # generam aleator matricea ponderilor stratului de iesire (num_hidden_neurons - numarul neuronilor de pe stratul ascuns, 1 - un neuron pe stratul de iesire), cu media miu si deviatia standard sigma. \n",
        "    b_2 = np.zeros(1) # initializam bias-ul cu 0\n",
        "    \n",
        "    for i in range(epochs):\n",
        "        sum_loss = 0\n",
        "        if shuffle:\n",
        "            X_train, y_train = shuffle_arrays(X_train, y_train, random_state=0)\n",
        "        for t in range(X_train.shape[1]):\n",
        "            y_pred = forward(X, W_1, b_1, W_2, b_2)\n",
        "            loss = (-y * np.log(a_2) - (1 - y) * np.log(1 - a_2)).mean()\n",
        "            \n",
        "            dw1, db1, dw2, db2 = backward(a_1, a_2, z_1, W_2, X_train, y_train, len(X_train))\n",
        "\n",
        "            W_1 = W_1 - learning_rate * dw1\n",
        "\n",
        "    return W_1, b_1, W_2, b_2"
      ],
      "execution_count": null,
      "outputs": []
    }
  ]
}