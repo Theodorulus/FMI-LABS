{
  "nbformat": 4,
  "nbformat_minor": 0,
  "metadata": {
    "colab": {
      "name": "Lab02.ipynb",
      "provenance": [],
      "collapsed_sections": []
    },
    "kernelspec": {
      "name": "python3",
      "display_name": "Python 3"
    }
  },
  "cells": [
    {
      "cell_type": "code",
      "metadata": {
        "id": "zUtEGZw-zsH4"
      },
      "source": [
        "from sklearn.naive_bayes import MultinomialNB\r\n",
        "import sklearn.datasets as datasets\r\n",
        "import numpy as np"
      ],
      "execution_count": null,
      "outputs": []
    },
    {
      "cell_type": "code",
      "metadata": {
        "id": "neGdlGNrVhGh"
      },
      "source": [
        "train_images = np.loadtxt('data/train_images.txt')\r\n",
        "train_labels = np.loadtxt('data/train_labels.txt').astype(np.int)\r\n",
        "\r\n",
        "test_images = np.loadtxt('data/test_images.txt')\r\n",
        "test_labels = np.loadtxt('data/test_labels.txt').astype(np.int)"
      ],
      "execution_count": null,
      "outputs": []
    },
    {
      "cell_type": "code",
      "metadata": {
        "colab": {
          "base_uri": "https://localhost:8080/"
        },
        "id": "9kaCg63-Iw-D",
        "outputId": "417d7e24-bad4-49ad-e3ea-781b9067db32"
      },
      "source": [
        "bins = np.linspace(start = 150, stop = 190, num = 4, endpoint = False)\r\n",
        "print(bins)\r\n",
        "data = [(160,\"F\"), (165, \"F\"), (155, \"F\"), (172, \"F\"), (175, \"B\"), (180, \"B\"), (177, \"B\"), (190, \"B\")]\r\n",
        "\r\n",
        "f = [i for (i,j) in data if j == \"F\"]\r\n",
        "b = [i for (i,j) in data if j == \"B\"]\r\n",
        "\r\n",
        "print(f, b)\r\n",
        "\r\n",
        "f_to_bins = np.digitize(f,bins)\r\n",
        "b_to_bins = np.digitize(b,bins)\r\n",
        "\r\n",
        "print(f_to_bins, b_to_bins)\r\n",
        "\r\n",
        "f178 = len([i for i in f_to_bins if i == 3])\r\n",
        "b178 = len([i for i in b_to_bins if i == 3])\r\n",
        "\r\n",
        "p_f = f178 / (f178 + b178)\r\n",
        "p_b = b178 / (f178 + b178)\r\n",
        "print(p_f)\r\n",
        "print(p_b)"
      ],
      "execution_count": null,
      "outputs": [
        {
          "output_type": "stream",
          "text": [
            "[150. 160. 170. 180.]\n",
            "[160, 165, 155, 172] [175, 180, 177, 190]\n",
            "[2 2 1 3] [3 4 3 4]\n",
            "0.3333333333333333\n",
            "0.6666666666666666\n"
          ],
          "name": "stdout"
        }
      ]
    },
    {
      "cell_type": "code",
      "metadata": {
        "colab": {
          "base_uri": "https://localhost:8080/"
        },
        "id": "4PDw0YO3IxAT",
        "outputId": "92a09dc8-5eca-4cf4-b5c0-df01fd39c852"
      },
      "source": [
        "num_bins = 5\r\n",
        "bins = np.linspace(start=0, stop=255, num=num_bins)\r\n",
        "\r\n",
        "print(bins)\r\n",
        "\r\n",
        "def values_to_bins(x, bins):\r\n",
        "    x_to_bins = np.digitize(x, bins)\r\n",
        "    return x_to_bins - 1\r\n",
        "\r\n",
        "x_train = values_to_bins(train_images, bins)\r\n",
        "x_test = values_to_bins(test_images, bins)\r\n",
        "\r\n",
        "print(x_train.min())\r\n",
        "print(x_train.max())"
      ],
      "execution_count": null,
      "outputs": [
        {
          "output_type": "stream",
          "text": [
            "[  0.    63.75 127.5  191.25 255.  ]\n",
            "0\n",
            "4\n"
          ],
          "name": "stdout"
        }
      ]
    },
    {
      "cell_type": "code",
      "metadata": {
        "colab": {
          "base_uri": "https://localhost:8080/"
        },
        "id": "OUviEnvrIxCw",
        "outputId": "c77cb101-69d5-4b29-bbac-f81776fb475c"
      },
      "source": [
        "num_bins = 5\r\n",
        "\r\n",
        "bins = np.linspace(start=0, stop=255, num=num_bins)\r\n",
        "\r\n",
        "naive_bayes_model = MultinomialNB()\r\n",
        "naive_bayes_model.fit(x_train, train_labels)\r\n",
        "\r\n",
        "# p = naive_bayes_model.predict(x_test)\r\n",
        "accuracy = naive_bayes_model.score(x_test, test_labels)\r\n",
        "\r\n",
        "print(accuracy)"
      ],
      "execution_count": null,
      "outputs": [
        {
          "output_type": "stream",
          "text": [
            "0.836\n"
          ],
          "name": "stdout"
        }
      ]
    },
    {
      "cell_type": "code",
      "metadata": {
        "colab": {
          "base_uri": "https://localhost:8080/"
        },
        "id": "0sjXWI2OIxFH",
        "outputId": "128de0a7-e563-49a0-d912-c2320dc7921f"
      },
      "source": [
        "for num_bins in [3, 5, 7, 9, 11]:\r\n",
        "    bins = np.linspace(0, 255, num=num_bins)\r\n",
        "\r\n",
        "    train = values_to_bins(train_images, bins)\r\n",
        "    test = values_to_bins(test_images, bins)\r\n",
        "\r\n",
        "    naive_bayes_model = MultinomialNB()\r\n",
        "\r\n",
        "    naive_bayes_model.fit(train, train_labels)\r\n",
        "    score = naive_bayes_model.score(test, test_labels)\r\n",
        "    print(num_bins, score)"
      ],
      "execution_count": null,
      "outputs": [
        {
          "output_type": "stream",
          "text": [
            "3 0.826\n",
            "5 0.836\n",
            "7 0.842\n",
            "9 0.842\n",
            "11 0.842\n"
          ],
          "name": "stdout"
        }
      ]
    },
    {
      "cell_type": "code",
      "metadata": {
        "colab": {
          "base_uri": "https://localhost:8080/",
          "height": 1000
        },
        "id": "CFjhG3K7IxKA",
        "outputId": "6fb0b643-688b-4a02-f841-c646bb874433"
      },
      "source": [
        "def values_to_bins(x, bins):\r\n",
        "    x_to_bins = np.digitize(x, bins)\r\n",
        "    return x_to_bins-1\r\n",
        "scores = []\r\n",
        "for num_bins in [3, 5, 7, 9, 11]:\r\n",
        "    bins = np.linspace(0, 255, num = num_bins)\r\n",
        "    train = values_to_bins(train_images, bins)\r\n",
        "    test = values_to_bins(test_images, bins)\r\n",
        "    naive_bayes_model = MultinomialNB()\r\n",
        "    naive_bayes_model.fit(train, train_labels)\r\n",
        "    score = naive_bayes_model.score(test, test_labels)\r\n",
        "    scores.append(score)\r\n",
        "nrs = [3, 5, 7, 9, 11]\r\n",
        "\r\n",
        "# max = nrs[scores.index(max(scores))]\r\n",
        "bins = np.linspace(0, 255, num = 7)\r\n",
        "train = values_to_bins(train_images, bins)\r\n",
        "test = values_to_bins(test_images, bins)\r\n",
        "naive_bayes_model = MultinomialNB()\r\n",
        "naive_bayes_model.fit(train, train_labels)\r\n",
        "p = naive_bayes_model.predict(test_images)\r\n",
        "nr = 0\r\n",
        "for i in range(len(p)):\r\n",
        "    if nr >= 10:\r\n",
        "        break\r\n",
        "    if p[i] != test_labels[i]:\r\n",
        "        nr+=1\r\n",
        "        image = test_images[i]\r\n",
        "        image = np.reshape(image, (28, 28))\r\n",
        "        plt.title(f'{test_labels[i]} misclassified as {p[i]}')\r\n",
        "        plt.imshow(image.astype(np.uint8), cmap='gray')\r\n",
        "        plt.show()\r\n",
        "#plt.show()"
      ],
      "execution_count": null,
      "outputs": [
        {
          "output_type": "display_data",
          "data": {
            "image/png": "[encoded data removed]",
            "text/plain": [
              "<Figure size 432x288 with 1 Axes>"
            ]
          },
          "metadata": {
            "tags": [],
            "needs_background": "light"
          }
        },
        {
          "output_type": "display_data",
          "data": {
            "image/png": "[encoded data removed]",
            "text/plain": [
              "<Figure size 432x288 with 1 Axes>"
            ]
          },
          "metadata": {
            "tags": [],
            "needs_background": "light"
          }
        },
        {
          "output_type": "display_data",
          "data": {
            "image/png": "[encoded data removed]",
            "text/plain": [
              "<Figure size 432x288 with 1 Axes>"
            ]
          },
          "metadata": {
            "tags": [],
            "needs_background": "light"
          }
        },
        {
          "output_type": "display_data",
          "data": {
            "image/png": "[encoded data removed]",
            "text/plain": [
              "<Figure size 432x288 with 1 Axes>"
            ]
          },
          "metadata": {
            "tags": [],
            "needs_background": "light"
          }
        },
        {
          "output_type": "display_data",
          "data": {
            "image/png": "[encoded data removed]",
            "text/plain": [
              "<Figure size 432x288 with 1 Axes>"
            ]
          },
          "metadata": {
            "tags": [],
            "needs_background": "light"
          }
        },
        {
          "output_type": "display_data",
          "data": {
            "image/png": "[encoded data removed]",
            "text/plain": [
              "<Figure size 432x288 with 1 Axes>"
            ]
          },
          "metadata": {
            "tags": [],
            "needs_background": "light"
          }
        },
        {
          "output_type": "display_data",
          "data": {
            "image/png": "[encoded data removed]",
            "text/plain": [
              "<Figure size 432x288 with 1 Axes>"
            ]
          },
          "metadata": {
            "tags": [],
            "needs_background": "light"
          }
        },
        {
          "output_type": "display_data",
          "data": {
            "image/png": "[encoded data removed]",
            "text/plain": [
              "<Figure size 432x288 with 1 Axes>"
            ]
          },
          "metadata": {
            "tags": [],
            "needs_background": "light"
          }
        },
        {
          "output_type": "display_data",
          "data": {
            "image/png": "[encoded data removed]",
            "text/plain": [
              "<Figure size 432x288 with 1 Axes>"
            ]
          },
          "metadata": {
            "tags": [],
            "needs_background": "light"
          }
        },
        {
          "output_type": "display_data",
          "data": {
            "image/png": "[encoded data removed]",
            "text/plain": [
              "<Figure size 432x288 with 1 Axes>"
            ]
          },
          "metadata": {
            "tags": [],
            "needs_background": "light"
          }
        }
      ]
    },
    {
      "cell_type": "code",
      "metadata": {
        "colab": {
          "base_uri": "https://localhost:8080/"
        },
        "id": "J7mEpg8sIxOh",
        "outputId": "c2f39fcd-28c8-4268-e3e8-2ed9ba211c1d"
      },
      "source": [
        "def confusion_matrix(test_labels,predict_labels):\r\n",
        "    # matrix = [[0 for _ in range(10)] for _ in range(10)]\r\n",
        "    matrix = np.zeros((10, 10))\r\n",
        "    for i in range(len(test_labels)):\r\n",
        "        matrix[test_labels[i]][predict_labels[i]] += 1\r\n",
        "    return matrix\r\n",
        "\r\n",
        "confusion_matrix(test_labels, p)"
      ],
      "execution_count": null,
      "outputs": [
        {
          "output_type": "execute_result",
          "data": {
            "text/plain": [
              "array([[51.,  0.,  0.,  0.,  0.,  0.,  1.,  0.,  1.,  0.],\n",
              "       [ 0., 48.,  0.,  0.,  0.,  0.,  0.,  0.,  4.,  0.],\n",
              "       [ 2.,  0., 51.,  1.,  1.,  0.,  0.,  1.,  1.,  1.],\n",
              "       [ 0.,  0.,  1., 49.,  0.,  0.,  0.,  0.,  0.,  3.],\n",
              "       [ 0.,  0.,  0.,  0., 34.,  0.,  0.,  0.,  2., 10.],\n",
              "       [ 1.,  0.,  0.,  9.,  0., 35.,  1.,  0.,  5.,  1.],\n",
              "       [ 1.,  1.,  0.,  0.,  1.,  0., 43.,  0.,  2.,  0.],\n",
              "       [ 0.,  1.,  0.,  0.,  2.,  0.,  0., 41.,  0.,  6.],\n",
              "       [ 0.,  1.,  3.,  3.,  1.,  1.,  1.,  1., 34.,  1.],\n",
              "       [ 0.,  0.,  1.,  1.,  5.,  0.,  0.,  0.,  0., 35.]])"
            ]
          },
          "metadata": {
            "tags": []
          },
          "execution_count": 112
        }
      ]
    },
    {
      "cell_type": "code",
      "metadata": {
        "colab": {
          "base_uri": "https://localhost:8080/",
          "height": 296
        },
        "id": "aD18dMqGIxRQ",
        "outputId": "c53bd297-9f0e-4d95-b669-cff87c889d19"
      },
      "source": [
        "from sklearn.metrics import plot_confusion_matrix\r\n",
        "\r\n",
        "plot_confusion_matrix(naive_bayes_model, test, y_true=test_labels, normalize='true')"
      ],
      "execution_count": null,
      "outputs": [
        {
          "output_type": "execute_result",
          "data": {
            "text/plain": [
              "<sklearn.metrics._plot.confusion_matrix.ConfusionMatrixDisplay at 0x7fd0491fd510>"
            ]
          },
          "metadata": {
            "tags": []
          },
          "execution_count": 120
        },
        {
          "output_type": "display_data",
          "data": {
            "image/png": "[encoded data removed]",
            "text/plain": [
              "<Figure size 432x288 with 2 Axes>"
            ]
          },
          "metadata": {
            "tags": [],
            "needs_background": "light"
          }
        }
      ]
    },
    {
      "cell_type": "code",
      "metadata": {
        "id": "qy8-fS6oIxTd"
      },
      "source": [
        ""
      ],
      "execution_count": null,
      "outputs": []
    },
    {
      "cell_type": "code",
      "metadata": {
        "id": "3VuMIqceIxWC"
      },
      "source": [
        ""
      ],
      "execution_count": null,
      "outputs": []
    },
    {
      "cell_type": "code",
      "metadata": {
        "id": "I9_UofhYIxY1"
      },
      "source": [
        ""
      ],
      "execution_count": null,
      "outputs": []
    },
    {
      "cell_type": "code",
      "metadata": {
        "id": "9jqJel9uIxbF"
      },
      "source": [
        ""
      ],
      "execution_count": null,
      "outputs": []
    },
    {
      "cell_type": "code",
      "metadata": {
        "id": "Dui6V2BpIxdK"
      },
      "source": [
        ""
      ],
      "execution_count": null,
      "outputs": []
    },
    {
      "cell_type": "code",
      "metadata": {
        "id": "zWt0YthmIxft"
      },
      "source": [
        ""
      ],
      "execution_count": null,
      "outputs": []
    },
    {
      "cell_type": "code",
      "metadata": {
        "id": "18vqKmexIxiL"
      },
      "source": [
        ""
      ],
      "execution_count": null,
      "outputs": []
    },
    {
      "cell_type": "code",
      "metadata": {
        "id": "a7b7iTdyIxke"
      },
      "source": [
        ""
      ],
      "execution_count": null,
      "outputs": []
    },
    {
      "cell_type": "code",
      "metadata": {
        "id": "YWRwMXf3IxnT"
      },
      "source": [
        ""
      ],
      "execution_count": null,
      "outputs": []
    },
    {
      "cell_type": "code",
      "metadata": {
        "id": "pd5_RRqwIxpo"
      },
      "source": [
        ""
      ],
      "execution_count": null,
      "outputs": []
    },
    {
      "cell_type": "code",
      "metadata": {
        "id": "O1SthdvkIxsK"
      },
      "source": [
        ""
      ],
      "execution_count": null,
      "outputs": []
    },
    {
      "cell_type": "code",
      "metadata": {
        "id": "avVcQ-cdIxuw"
      },
      "source": [
        ""
      ],
      "execution_count": null,
      "outputs": []
    },
    {
      "cell_type": "code",
      "metadata": {
        "id": "E3DM_N6_Ixw5"
      },
      "source": [
        ""
      ],
      "execution_count": null,
      "outputs": []
    },
    {
      "cell_type": "code",
      "metadata": {
        "id": "hv9I1SJeIwUc"
      },
      "source": [
        ""
      ],
      "execution_count": null,
      "outputs": []
    },
    {
      "cell_type": "code",
      "metadata": {
        "id": "qEvjKfmGIwWm"
      },
      "source": [
        ""
      ],
      "execution_count": null,
      "outputs": []
    },
    {
      "cell_type": "code",
      "metadata": {
        "id": "fkpK4-_AIwa1"
      },
      "source": [
        ""
      ],
      "execution_count": null,
      "outputs": []
    },
    {
      "cell_type": "code",
      "metadata": {
        "id": "um8mARC9IwdI"
      },
      "source": [
        ""
      ],
      "execution_count": null,
      "outputs": []
    },
    {
      "cell_type": "code",
      "metadata": {
        "id": "l1NOqv9D6UL7"
      },
      "source": [
        "from sklearn.model_selection import train_test_split"
      ],
      "execution_count": null,
      "outputs": []
    },
    {
      "cell_type": "code",
      "metadata": {
        "id": "GkrwmTz66C0z"
      },
      "source": [
        "data = datasets.load_iris()"
      ],
      "execution_count": null,
      "outputs": []
    },
    {
      "cell_type": "code",
      "metadata": {
        "id": "z9vaTL1p6Xzj"
      },
      "source": [
        "X_train, X_test, y_train, y_test = train_test_split(data.data, data.target, test_size=0.20, random_state=42)"
      ],
      "execution_count": null,
      "outputs": []
    },
    {
      "cell_type": "code",
      "metadata": {
        "id": "4OS9ADSR6ton"
      },
      "source": [
        "model = MultinomialNB()\r\n",
        "model.fit(X_train, y_train)"
      ],
      "execution_count": null,
      "outputs": []
    },
    {
      "cell_type": "code",
      "metadata": {
        "colab": {
          "base_uri": "https://localhost:8080/"
        },
        "id": "T0ySoE7l617E",
        "outputId": "d24300b0-d84d-435e-e0f5-3736b2331bf6"
      },
      "source": [
        "model.predict(X_test) # predictions"
      ],
      "execution_count": null,
      "outputs": [
        {
          "output_type": "execute_result",
          "data": {
            "text/plain": [
              "array([1, 0, 2, 1, 1, 0, 1, 2, 1, 1, 1, 0, 0, 0, 0, 1, 2, 1, 1, 2, 0, 1,\n",
              "       0, 2, 1, 2, 2, 2, 0, 0])"
            ]
          },
          "metadata": {
            "tags": []
          },
          "execution_count": 13
        }
      ]
    },
    {
      "cell_type": "code",
      "metadata": {
        "colab": {
          "base_uri": "https://localhost:8080/"
        },
        "id": "qqVjOJ79643X",
        "outputId": "31732ed3-abed-406e-e0ef-80b33bc20b8b"
      },
      "source": [
        "model.score(X_test, y_test) # accuracy"
      ],
      "execution_count": null,
      "outputs": [
        {
          "output_type": "execute_result",
          "data": {
            "text/plain": [
              "0.9"
            ]
          },
          "metadata": {
            "tags": []
          },
          "execution_count": 16
        }
      ]
    },
    {
      "cell_type": "code",
      "metadata": {
        "id": "Uq7GakSO66ni"
      },
      "source": [
        "ex1=0\r\n",
        "k=0\r\n",
        "for i in vect:\r\n",
        "    if i[0]>=171:\r\n",
        "        if i[0]<=180:\r\n",
        "            if i[1]=='B':\r\n",
        "                ex1+=1\r\n",
        "            k+=1\r\n",
        "print(ex1/k)"
      ],
      "execution_count": null,
      "outputs": []
    },
    {
      "cell_type": "code",
      "metadata": {
        "colab": {
          "base_uri": "https://localhost:8080/"
        },
        "id": "2nTzpkQy8EvX",
        "outputId": "eb021dd3-3f3f-4285-f54d-622877f647e7"
      },
      "source": [
        "bins = np.linspace(start = 150.1, stop=190.1, num=4, endpoint=False)\r\n",
        "print(bins)\r\n",
        "data = [(160,\"F\"), (165, \"F\"), (155, \"F\"), (172, \"F\"), (175, \"B\"), (180, \"B\"), (177, \"B\"), (190, \"B\")]\r\n",
        "\r\n",
        "f = [i for (i,j) in data if j == \"F\"]\r\n",
        "b = [i for (i,j) in data if j == \"B\"]\r\n",
        "\r\n",
        "print(f, b)\r\n",
        "\r\n",
        "f_to_bins = np.digitize(f, bins)\r\n",
        "b_to_bins = np.digitize(b, bins)\r\n",
        "n_f_178 = len([i for i in f_to_bins if i == 3])\r\n",
        "n_b_178 = len([i for i in b_to_bins if i == 3])\r\n",
        "p_f_178 = n_f_178 / (n_f_178 + n_b_178)\r\n",
        "p_b_178 = n_b_178 / (n_f_178 + n_b_178)\r\n",
        "print(p_f_178)\r\n",
        "print(p_b_178)"
      ],
      "execution_count": null,
      "outputs": [
        {
          "output_type": "stream",
          "text": [
            "[150.1 160.1 170.1 180.1]\n",
            "[160, 165, 155, 172] [175, 180, 177, 190]\n",
            "0.25\n",
            "0.75\n"
          ],
          "name": "stdout"
        }
      ]
    },
    {
      "cell_type": "code",
      "metadata": {
        "colab": {
          "base_uri": "https://localhost:8080/"
        },
        "id": "OiukwdyD8MH8",
        "outputId": "c04ac9ce-214a-48fe-e5f3-391c5c2e00a5"
      },
      "source": [
        "training_set = [(160, 'F'), (165, 'F'), (155, 'F'), (172, 'F'),\r\n",
        "                (175, 'B'), (180, 'B'), (177, 'B'), (190, 'B')]\r\n",
        "data = [i for (i, j) in training_set]\r\n",
        "labels = [j for(i, j) in training_set]\r\n",
        "\r\n",
        "bins = np.linspace(start=150 , stop=190 , num=4, endpoint=False)\r\n",
        "print(bins)\r\n",
        "data = np.digitize(data, bins)\r\n",
        "\r\n",
        "print([j for i, j in training_set])\r\n",
        "print(data)\r\n",
        "\r\n",
        "def calc_prob(vec, id):\r\n",
        "  return len([i for i in vec if i == id]) / len(vec)\r\n",
        "\r\n",
        "def calc_cond_prob(gender, bin):\r\n",
        "  restr_data = [data[i] for i in range(len(labels)) if labels[i] == gender]\r\n",
        "  return calc_prob(restr_data, bin)\r\n",
        "\r\n",
        "def solve(height, gender):\r\n",
        "  cores_bin = np.digitize(height, bins)\r\n",
        "  print(cores_bin, calc_cond_prob(gender, cores_bin), calc_prob(labels, gender), calc_prob(data, cores_bin))\r\n",
        "  return calc_prob(labels, gender) * calc_cond_prob(gender, cores_bin) / calc_prob(data, cores_bin)\r\n",
        "\r\n",
        "height = 177\r\n",
        "print('Prob ca o pers de', height, 'sa fie fata:', solve(height, 'F'))\r\n",
        "print('Prob ca o pers de', height, 'sa fie baiat:', solve(height, 'B'))"
      ],
      "execution_count": null,
      "outputs": [
        {
          "output_type": "stream",
          "text": [
            "[150. 160. 170. 180.]\n",
            "['F', 'F', 'F', 'F', 'B', 'B', 'B', 'B']\n",
            "[2 2 1 3 3 4 3 4]\n",
            "3 0.25 0.5 0.375\n",
            "Prob ca o pers de 177 sa fie fata: 0.3333333333333333\n",
            "3 0.5 0.5 0.375\n",
            "Prob ca o pers de 177 sa fie baiat: 0.6666666666666666\n"
          ],
          "name": "stdout"
        }
      ]
    },
    {
      "cell_type": "code",
      "metadata": {
        "colab": {
          "base_uri": "https://localhost:8080/",
          "height": 421
        },
        "id": "QPzC6BPtCdca",
        "outputId": "9e4876f3-8da3-4598-dd35-3e33cf46b302"
      },
      "source": [
        "# train_images = np.load('data/train_images.txt', allow_pickle=True)\r\n",
        "# test_images = np.load('data/test_images.txt')\r\n",
        "# train_labels = np.load('data/train_labels.txt', allow_pickle=True)\r\n",
        "# test_labels = np.load('data/test_labels.txt')"
      ],
      "execution_count": null,
      "outputs": [
        {
          "output_type": "error",
          "ename": "OSError",
          "evalue": "ignored",
          "traceback": [
            "\u001b[0;31m---------------------------------------------------------------------------\u001b[0m",
            "\u001b[0;31mUnpicklingError\u001b[0m                           Traceback (most recent call last)",
            "\u001b[0;32m/usr/local/lib/python3.7/dist-packages/numpy/lib/npyio.py\u001b[0m in \u001b[0;36mload\u001b[0;34m(file, mmap_mode, allow_pickle, fix_imports, encoding)\u001b[0m\n\u001b[1;32m    446\u001b[0m             \u001b[0;32mtry\u001b[0m\u001b[0;34m:\u001b[0m\u001b[0;34m\u001b[0m\u001b[0;34m\u001b[0m\u001b[0m\n\u001b[0;32m--> 447\u001b[0;31m                 \u001b[0;32mreturn\u001b[0m \u001b[0mpickle\u001b[0m\u001b[0;34m.\u001b[0m\u001b[0mload\u001b[0m\u001b[0;34m(\u001b[0m\u001b[0mfid\u001b[0m\u001b[0;34m,\u001b[0m \u001b[0;34m**\u001b[0m\u001b[0mpickle_kwargs\u001b[0m\u001b[0;34m)\u001b[0m\u001b[0;34m\u001b[0m\u001b[0;34m\u001b[0m\u001b[0m\n\u001b[0m\u001b[1;32m    448\u001b[0m             \u001b[0;32mexcept\u001b[0m \u001b[0mException\u001b[0m\u001b[0;34m:\u001b[0m\u001b[0;34m\u001b[0m\u001b[0;34m\u001b[0m\u001b[0m\n",
            "\u001b[0;31mUnpicklingError\u001b[0m: invalid load key, '4'.",
            "\nDuring handling of the above exception, another exception occurred:\n",
            "\u001b[0;31mOSError\u001b[0m                                   Traceback (most recent call last)",
            "\u001b[0;32m<ipython-input-56-80600ac39a9d>\u001b[0m in \u001b[0;36m<module>\u001b[0;34m()\u001b[0m\n\u001b[1;32m      1\u001b[0m \u001b[0;31m# train_images = np.load('data/train_images.txt', allow_pickle=True)\u001b[0m\u001b[0;34m\u001b[0m\u001b[0;34m\u001b[0m\u001b[0;34m\u001b[0m\u001b[0m\n\u001b[1;32m      2\u001b[0m \u001b[0;31m# test_images = np.load('data/test_images.txt')\u001b[0m\u001b[0;34m\u001b[0m\u001b[0;34m\u001b[0m\u001b[0;34m\u001b[0m\u001b[0m\n\u001b[0;32m----> 3\u001b[0;31m \u001b[0mtrain_labels\u001b[0m \u001b[0;34m=\u001b[0m \u001b[0mnp\u001b[0m\u001b[0;34m.\u001b[0m\u001b[0mload\u001b[0m\u001b[0;34m(\u001b[0m\u001b[0;34m'data/train_labels.txt'\u001b[0m\u001b[0;34m,\u001b[0m \u001b[0mallow_pickle\u001b[0m\u001b[0;34m=\u001b[0m\u001b[0;32mTrue\u001b[0m\u001b[0;34m)\u001b[0m\u001b[0;34m\u001b[0m\u001b[0;34m\u001b[0m\u001b[0m\n\u001b[0m\u001b[1;32m      4\u001b[0m \u001b[0mtest_labels\u001b[0m \u001b[0;34m=\u001b[0m \u001b[0mnp\u001b[0m\u001b[0;34m.\u001b[0m\u001b[0mload\u001b[0m\u001b[0;34m(\u001b[0m\u001b[0;34m'data/test_labels.txt'\u001b[0m\u001b[0;34m)\u001b[0m\u001b[0;34m\u001b[0m\u001b[0;34m\u001b[0m\u001b[0m\n",
            "\u001b[0;32m/usr/local/lib/python3.7/dist-packages/numpy/lib/npyio.py\u001b[0m in \u001b[0;36mload\u001b[0;34m(file, mmap_mode, allow_pickle, fix_imports, encoding)\u001b[0m\n\u001b[1;32m    448\u001b[0m             \u001b[0;32mexcept\u001b[0m \u001b[0mException\u001b[0m\u001b[0;34m:\u001b[0m\u001b[0;34m\u001b[0m\u001b[0;34m\u001b[0m\u001b[0m\n\u001b[1;32m    449\u001b[0m                 raise IOError(\n\u001b[0;32m--> 450\u001b[0;31m                     \"Failed to interpret file %s as a pickle\" % repr(file))\n\u001b[0m\u001b[1;32m    451\u001b[0m \u001b[0;34m\u001b[0m\u001b[0m\n\u001b[1;32m    452\u001b[0m \u001b[0;34m\u001b[0m\u001b[0m\n",
            "\u001b[0;31mOSError\u001b[0m: Failed to interpret file 'data/train_labels.txt' as a pickle"
          ]
        }
      ]
    },
    {
      "cell_type": "code",
      "metadata": {
        "colab": {
          "base_uri": "https://localhost:8080/"
        },
        "id": "5Dip6Eh_DEWR",
        "outputId": "4d8d35d1-0d8c-42ff-93d9-674491591a3c"
      },
      "source": [
        "def read_labels(path):\r\n",
        "    with open(path) as f:\r\n",
        "        lines = f.readlines()\r\n",
        "        numbs = []\r\n",
        "        for l in lines:\r\n",
        "            numbs.append(float(l))\r\n",
        "        return np.array(numbs)\r\n",
        "\r\n",
        "def read_images(path):\r\n",
        "    with open(path) as f:\r\n",
        "        lines = f.readlines()\r\n",
        "        numbs = []\r\n",
        "        for l in lines:\r\n",
        "            numbers = [float(x) for x in l.split(' ')]\r\n",
        "            numbs.append(numbers)\r\n",
        "        return np.array(numbs)\r\n",
        "\r\n",
        "    \r\n",
        "train_images = read_images('data/train_images.txt')\r\n",
        "test_images = read_images('data/test_images.txt')\r\n",
        "print(train_images.shape)\r\n",
        "print(train_images.shape)\r\n",
        "\r\n",
        "    \r\n",
        "train_labels = read_labels('data/train_labels.txt')\r\n",
        "test_labels = read_labels('data/test_labels.txt')\r\n",
        "print(train_labels.shape)\r\n",
        "print(test_labels.shape)"
      ],
      "execution_count": null,
      "outputs": [
        {
          "output_type": "stream",
          "text": [
            "(1000, 784)\n",
            "(1000, 784)\n",
            "(1000,)\n",
            "(500,)\n"
          ],
          "name": "stdout"
        }
      ]
    },
    {
      "cell_type": "code",
      "metadata": {
        "id": "ACbuvsvUCde-"
      },
      "source": [
        " "
      ],
      "execution_count": null,
      "outputs": []
    },
    {
      "cell_type": "code",
      "metadata": {
        "id": "HggMhkAMCdhf"
      },
      "source": [
        ""
      ],
      "execution_count": null,
      "outputs": []
    },
    {
      "cell_type": "code",
      "metadata": {
        "colab": {
          "base_uri": "https://localhost:8080/"
        },
        "id": "fUj54gdIB8gV",
        "outputId": "665516d1-da59-4dde-ec00-9fc03cf5f029"
      },
      "source": [
        "num_bins = 5\r\n",
        "bins = np.linspace(start=0, stop=255, num=num_bins)\r\n",
        "\r\n",
        "def values_to_bins(x, bins):\r\n",
        "    x_to_bins = np.digitize(x, bins)\r\n",
        "    return x_to_bins - 1\r\n",
        "\r\n",
        "x_train = values_to_bins(train_images, bins)\r\n",
        "x_test = values_to_bins(test_images, bins)\r\n",
        "\r\n",
        "print(x_train.shape)\r\n",
        "print(x_train.mean())"
      ],
      "execution_count": null,
      "outputs": [
        {
          "output_type": "stream",
          "text": [
            "(1000, 784)\n",
            "0.39563265306122447\n"
          ],
          "name": "stdout"
        }
      ]
    },
    {
      "cell_type": "code",
      "metadata": {
        "colab": {
          "base_uri": "https://localhost:8080/"
        },
        "id": "cvoeQUdC9Nam",
        "outputId": "984a8a7a-3675-41ba-fdb0-722227d3abe6"
      },
      "source": [
        "num_bins = 5\r\n",
        "bins = np.linspace(start=0, stop=255, num=num_bins, endpoint=False)\r\n",
        "\r\n",
        "train_images_dig = values_to_bins(train_images, bins)\r\n",
        "test_images_dig = values_to_bins(test_images, bins)\r\n",
        "\r\n",
        "naive_bayes = MultinomialNB()\r\n",
        "naive_bayes.fit(train_images_dig, train_labels)\r\n",
        "naive_bayes.score(test_images_dig, test_labels)"
      ],
      "execution_count": null,
      "outputs": [
        {
          "output_type": "execute_result",
          "data": {
            "text/plain": [
              "0.84"
            ]
          },
          "metadata": {
            "tags": []
          },
          "execution_count": 71
        }
      ]
    },
    {
      "cell_type": "code",
      "metadata": {
        "colab": {
          "base_uri": "https://localhost:8080/"
        },
        "id": "eqOdC_BJFDzl",
        "outputId": "85214ed8-8a38-452f-aa95-d179ae292b09"
      },
      "source": [
        "num_bins = 5\r\n",
        "for num_bins in range(3, 12, 2):\r\n",
        "    bins = np.linspace(0, 255, num=num_bins)\r\n",
        "    x_train = values_to_bins(train_images, bins)\r\n",
        "    x_test = values_to_bins(test_images, bins)\r\n",
        "    naive_bayes_model = MultinomialNB()\r\n",
        "    naive_bayes_model.fit(x_train, train_labels)\r\n",
        "    print(num_bins, naive_bayes_model.score(x_test, test_labels))"
      ],
      "execution_count": null,
      "outputs": [
        {
          "output_type": "stream",
          "text": [
            "3 0.826\n",
            "5 0.836\n",
            "7 0.842\n",
            "9 0.842\n",
            "11 0.842\n"
          ],
          "name": "stdout"
        }
      ]
    },
    {
      "cell_type": "code",
      "metadata": {
        "colab": {
          "base_uri": "https://localhost:8080/",
          "height": 1000
        },
        "id": "hiIgt0A4FZHq",
        "outputId": "c74bb5bc-7dfe-43ba-b4e4-2f0c6a1f90f4"
      },
      "source": [
        "import matplotlib.pyplot as plt\r\n",
        "\r\n",
        "num_bins = 7\r\n",
        "\r\n",
        "train_images_dig = values_to_bins(train_images, bins)\r\n",
        "test_images_dig = values_to_bins(test_images, bins)\r\n",
        "\r\n",
        "naive_bayes_model = MultinomialNB()\r\n",
        "\r\n",
        "naive_bayes_model.fit(train_images_dig, train_labels)\r\n",
        "\r\n",
        "p = naive_bayes_model.predict(test_images_dig)\r\n",
        "score = naive_bayes_model.score(test_images_dig, test_labels)\r\n",
        "\r\n",
        "count = 10\r\n",
        "for i in range(len(p)):\r\n",
        "    if count == 0:\r\n",
        "        break\r\n",
        "    if p[i] != test_labels[i]:\r\n",
        "        plt.imshow(test_images[i].reshape(28, 28), cmap='gray') # print(i)\r\n",
        "        # plt.title(str(int(test_labels[i])), 'missclassified as', str(int(p[i])))\r\n",
        "        plt.title('{} missclassified as {}'.format(int(test_labels[i]), int(p[i])))\r\n",
        "        plt.show()\r\n",
        "        count -= 1"
      ],
      "execution_count": null,
      "outputs": [
        {
          "output_type": "display_data",
          "data": {
            "image/png": "[encoded data removed]",
            "text/plain": [
              "<Figure size 432x288 with 1 Axes>"
            ]
          },
          "metadata": {
            "tags": [],
            "needs_background": "light"
          }
        },
        {
          "output_type": "display_data",
          "data": {
            "image/png": "[encoded data removed]",
            "text/plain": [
              "<Figure size 432x288 with 1 Axes>"
            ]
          },
          "metadata": {
            "tags": [],
            "needs_background": "light"
          }
        },
        {
          "output_type": "display_data",
          "data": {
            "image/png": "[encoded data removed]",
            "text/plain": [
              "<Figure size 432x288 with 1 Axes>"
            ]
          },
          "metadata": {
            "tags": [],
            "needs_background": "light"
          }
        },
        {
          "output_type": "display_data",
          "data": {
            "image/png": "[encoded data removed]",
            "text/plain": [
              "<Figure size 432x288 with 1 Axes>"
            ]
          },
          "metadata": {
            "tags": [],
            "needs_background": "light"
          }
        },
        {
          "output_type": "display_data",
          "data": {
            "image/png": "[encoded data removed]",
            "text/plain": [
              "<Figure size 432x288 with 1 Axes>"
            ]
          },
          "metadata": {
            "tags": [],
            "needs_background": "light"
          }
        },
        {
          "output_type": "display_data",
          "data": {
            "image/png": "[encoded data removed]",
            "text/plain": [
              "<Figure size 432x288 with 1 Axes>"
            ]
          },
          "metadata": {
            "tags": [],
            "needs_background": "light"
          }
        },
        {
          "output_type": "display_data",
          "data": {
            "image/png": "[encoded data removed]",
            "text/plain": [
              "<Figure size 432x288 with 1 Axes>"
            ]
          },
          "metadata": {
            "tags": [],
            "needs_background": "light"
          }
        },
        {
          "output_type": "display_data",
          "data": {
            "image/png": "[encoded data removed]",
            "text/plain": [
              "<Figure size 432x288 with 1 Axes>"
            ]
          },
          "metadata": {
            "tags": [],
            "needs_background": "light"
          }
        },
        {
          "output_type": "display_data",
          "data": {
            "image/png": "[encoded data removed]",
            "text/plain": [
              "<Figure size 432x288 with 1 Axes>"
            ]
          },
          "metadata": {
            "tags": [],
            "needs_background": "light"
          }
        },
        {
          "output_type": "display_data",
          "data": {
            "image/png": "[encoded data removed]",
            "text/plain": [
              "<Figure size 432x288 with 1 Axes>"
            ]
          },
          "metadata": {
            "tags": [],
            "needs_background": "light"
          }
        }
      ]
    },
    {
      "cell_type": "code",
      "metadata": {
        "id": "bOtgbZXZF5RH"
      },
      "source": [
        ""
      ],
      "execution_count": null,
      "outputs": []
    }
  ]
}