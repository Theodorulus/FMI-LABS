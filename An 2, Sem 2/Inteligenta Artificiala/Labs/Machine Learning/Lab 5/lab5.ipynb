{
  "nbformat": 4,
  "nbformat_minor": 0,
  "metadata": {
    "colab": {
      "name": "lab5.ipynb",
      "provenance": [],
      "collapsed_sections": []
    },
    "kernelspec": {
      "name": "python3",
      "display_name": "Python 3"
    }
  },
  "cells": [
    {
      "cell_type": "code",
      "metadata": {
        "colab": {
          "base_uri": "https://localhost:8080/"
        },
        "id": "CNUDPVxI7DiH",
        "outputId": "c63c3d18-f77b-4983-e6ae-30b8b119f9ed"
      },
      "source": [
        "!unzip data_lab6.zip"
      ],
      "execution_count": 1,
      "outputs": [
        {
          "output_type": "stream",
          "text": [
            "Archive:  data_lab6.zip\n",
            "  inflating: data/prices.npy         \n",
            "  inflating: data/training_data.npy  \n"
          ],
          "name": "stdout"
        }
      ]
    },
    {
      "cell_type": "code",
      "metadata": {
        "colab": {
          "base_uri": "https://localhost:8080/"
        },
        "id": "oAXYMlkYKh-w",
        "outputId": "4ddccc3e-5730-4c8e-8c35-326738d5c9fc"
      },
      "source": [
        "import numpy as np \r\n",
        "from sklearn.utils import shuffle\r\n",
        "from sklearn.model_selection import train_test_split\r\n",
        "\r\n",
        "# load training data \r\n",
        "training_data = np.load('data/training_data.npy') \r\n",
        "prices = np.load('data/prices.npy') \r\n",
        "\r\n",
        "# print the first 4 samples \r\n",
        "print('The first 4 samples are:\\n ', training_data[:4]) \r\n",
        "print('The first 4 prices are:\\n ', prices[:4]) \r\n",
        "\r\n",
        "# shuffle \r\n",
        "training_data, prices = shuffle(training_data, prices, random_state=0)\r\n",
        "X_train, X_test, y_train, y_test = train_test_split(training_data, prices, test_size=0.2, random_state=42)"
      ],
      "execution_count": 4,
      "outputs": [
        {
          "output_type": "stream",
          "text": [
            "The first 4 samples are:\n",
            "  [[2.0150e+03 4.1000e+04 1.9670e+01 1.5820e+03 1.2620e+02 5.0000e+00\n",
            "  1.0000e+00 0.0000e+00 1.0000e+00 0.0000e+00 0.0000e+00 0.0000e+00\n",
            "  1.0000e+00 0.0000e+00]\n",
            " [2.0110e+03 4.6000e+04 1.8200e+01 1.1990e+03 8.8700e+01 5.0000e+00\n",
            "  1.0000e+00 0.0000e+00 0.0000e+00 1.0000e+00 0.0000e+00 0.0000e+00\n",
            "  1.0000e+00 0.0000e+00]\n",
            " [2.0120e+03 8.7000e+04 2.0770e+01 1.2480e+03 8.8760e+01 7.0000e+00\n",
            "  1.0000e+00 0.0000e+00 1.0000e+00 0.0000e+00 0.0000e+00 0.0000e+00\n",
            "  1.0000e+00 0.0000e+00]\n",
            " [2.0130e+03 8.6999e+04 2.3080e+01 1.4610e+03 6.3100e+01 5.0000e+00\n",
            "  1.0000e+00 0.0000e+00 1.0000e+00 0.0000e+00 0.0000e+00 0.0000e+00\n",
            "  1.0000e+00 0.0000e+00]]\n",
            "The first 4 prices are:\n",
            "  [12.5  4.5  6.   3.5]\n"
          ],
          "name": "stdout"
        }
      ]
    },
    {
      "cell_type": "code",
      "metadata": {
        "colab": {
          "base_uri": "https://localhost:8080/"
        },
        "id": "7GuM4tiAK1B8",
        "outputId": "33bc11fb-a30b-41a7-c281-833281101b9c"
      },
      "source": [
        "#1 + tipul normalizarii\r\n",
        "import sklearn.preprocessing as preprocessing\r\n",
        "\r\n",
        "def normalize_data(train_data, test_data, type='standard'):\r\n",
        "    if type == 'standard':\r\n",
        "        scaler = preprocessing.StandardScaler()\r\n",
        "    elif type == 'minmax':\r\n",
        "        scaler = preprocessing.MinMaxScaler()\r\n",
        "    \r\n",
        "    scaler.fit(train_data)\r\n",
        "    sc_train = scaler.transform(train_data)\r\n",
        "    sc_test = scaler.transform(test_data)\r\n",
        "    return sc_train, sc_test\r\n",
        "\r\n",
        "normalize_data(X_train, X_test, 'minmax')"
      ],
      "execution_count": 5,
      "outputs": [
        {
          "output_type": "execute_result",
          "data": {
            "text/plain": [
              "(array([[0.8571396 , 0.02388206, 0.63380283, ..., 0.        , 1.        ,\n",
              "         0.        ],\n",
              "        [0.6666641 , 0.10458039, 0.6161972 , ..., 0.        , 1.        ,\n",
              "         0.        ],\n",
              "        [0.7142868 , 0.04529548, 0.7169015 , ..., 0.        , 1.        ,\n",
              "         0.        ],\n",
              "        ...,\n",
              "        [0.7142868 , 0.02789135, 0.7429578 , ..., 0.        , 1.        ,\n",
              "         0.        ],\n",
              "        [0.76190186, 0.09561855, 0.68661976, ..., 0.        , 1.        ,\n",
              "         0.        ],\n",
              "        [0.6666641 , 0.13451667, 0.671831  , ..., 0.        , 0.        ,\n",
              "         1.        ]], dtype=float32),\n",
              " array([[0.2857132 , 0.27760622, 0.62957746, ..., 0.        , 1.        ,\n",
              "         0.        ],\n",
              "        [0.9523773 , 0.04787109, 0.75352114, ..., 0.        , 0.        ,\n",
              "         1.        ],\n",
              "        [0.7142868 , 0.07994399, 0.6514085 , ..., 0.        , 1.        ,\n",
              "         0.        ],\n",
              "        ...,\n",
              "        [0.38095093, 0.17619462, 0.45070425, ..., 0.        , 1.        ,\n",
              "         0.        ],\n",
              "        [0.8571396 , 0.08046912, 0.76267606, ..., 0.        , 1.        ,\n",
              "         0.        ],\n",
              "        [0.6190491 , 0.05808185, 0.59859157, ..., 0.        , 1.        ,\n",
              "         0.        ]], dtype=float32))"
            ]
          },
          "metadata": {
            "tags": []
          },
          "execution_count": 5
        }
      ]
    },
    {
      "cell_type": "code",
      "metadata": {
        "colab": {
          "base_uri": "https://localhost:8080/"
        },
        "id": "ZWPth1l9MObn",
        "outputId": "0dd28e45-25e3-4605-c240-730a966a0b54"
      },
      "source": [
        "#2 + nenormalizat, dar cu 5 fold-uri\r\n",
        "\r\n",
        "from sklearn.metrics import make_scorer, mean_absolute_error, mean_squared_error\r\n",
        "from sklearn.linear_model import LinearRegression, Ridge, Lasso\r\n",
        "from sklearn.model_selection import cross_validate\r\n",
        "\r\n",
        "lin_model = LinearRegression()\r\n",
        "result = cross_validate(lin_model, X_train, y_train, scoring={\r\n",
        "                                'MSE': make_scorer(mean_squared_error),\r\n",
        "                                'MAE': make_scorer(mean_absolute_error),\r\n",
        "                            },\r\n",
        "                         cv=5, n_jobs=-1, verbose=10)\r\n",
        "print (np.mean(result['test_MSE']), np.mean(result['test_MAE']))\r\n",
        "\r\n",
        "X_train_norm, X_test_norm = normalize_data(X_train, X_test)\r\n",
        "\r\n",
        "lin_model = LinearRegression()\r\n",
        "result = cross_validate(lin_model, X_train_norm, y_train, scoring={\r\n",
        "                                'MSE': make_scorer(mean_squared_error),\r\n",
        "                                'MAE': make_scorer(mean_absolute_error),\r\n",
        "                            },\r\n",
        "                         cv=5, n_jobs=-1, verbose=10)\r\n",
        "\r\n",
        "print (np.mean(result['test_MSE']), np.mean(result['test_MAE']))"
      ],
      "execution_count": 7,
      "outputs": [
        {
          "output_type": "stream",
          "text": [
            "[Parallel(n_jobs=-1)]: Using backend LokyBackend with 2 concurrent workers.\n"
          ],
          "name": "stderr"
        },
        {
          "output_type": "stream",
          "text": [
            "3.148525333404541 1.317839503288269\n",
            "3.1485180377960207 1.3178321599960328\n"
          ],
          "name": "stdout"
        },
        {
          "output_type": "stream",
          "text": [
            "[Parallel(n_jobs=-1)]: Done   1 tasks      | elapsed:    0.8s\n",
            "[Parallel(n_jobs=-1)]: Done   3 out of   5 | elapsed:    0.9s remaining:    0.6s\n",
            "[Parallel(n_jobs=-1)]: Done   5 out of   5 | elapsed:    0.9s remaining:    0.0s\n",
            "[Parallel(n_jobs=-1)]: Done   5 out of   5 | elapsed:    0.9s finished\n",
            "[Parallel(n_jobs=-1)]: Using backend LokyBackend with 2 concurrent workers.\n",
            "[Parallel(n_jobs=-1)]: Done   1 tasks      | elapsed:    0.0s\n",
            "[Parallel(n_jobs=-1)]: Batch computation too fast (0.0104s.) Setting batch_size=2.\n",
            "[Parallel(n_jobs=-1)]: Done   3 out of   5 | elapsed:    0.0s remaining:    0.0s\n",
            "[Parallel(n_jobs=-1)]: Done   5 out of   5 | elapsed:    0.0s remaining:    0.0s\n",
            "[Parallel(n_jobs=-1)]: Done   5 out of   5 | elapsed:    0.0s finished\n"
          ],
          "name": "stderr"
        }
      ]
    },
    {
      "cell_type": "code",
      "metadata": {
        "colab": {
          "base_uri": "https://localhost:8080/"
        },
        "id": "5N9NXmzYO1o8",
        "outputId": "6bca809a-7e7a-4b14-faf7-cb0b44e56ee5"
      },
      "source": [
        "#3 + model ridge, lasso + ambele tipuri de normalizari\r\n",
        "\r\n",
        "for method in [\"standard\",\"minmax\"]:\r\n",
        "    for alpha in [1, 10, 100, 1000]:\r\n",
        "        X_train_norm, X_test_norm = normalize_data(X_train, X_test, method)\r\n",
        "\r\n",
        "        lin_model = Ridge(alpha)\r\n",
        "        result = cross_validate(lin_model, X_train_norm, y_train, scoring={\r\n",
        "                                        'MSE': make_scorer(mean_squared_error),\r\n",
        "                                        'MAE': make_scorer(mean_absolute_error),\r\n",
        "                                    },\r\n",
        "                                 cv=5, n_jobs=-1)\r\n",
        "\r\n",
        "        print (method, np.mean(result['test_MSE']), np.mean(result['test_MAE']))\r\n",
        "\r\n",
        "print('---------------------------------------------')\r\n",
        "\r\n",
        "for method in [\"standard\",\"minmax\"]:\r\n",
        "    for alpha in [1, 10, 100, 1000]:\r\n",
        "        X_train_norm, X_test_norm = normalize_data(X_train, X_test, method)\r\n",
        "\r\n",
        "        lin_model = Lasso(alpha)\r\n",
        "        result = cross_validate(lin_model, X_train_norm, y_train, scoring={\r\n",
        "                                        'MSE': make_scorer(mean_squared_error),\r\n",
        "                                        'MAE': make_scorer(mean_absolute_error),\r\n",
        "                                    },\r\n",
        "                                 cv=5, n_jobs=-1)\r\n",
        "\r\n",
        "        print (method, np.mean(result['test_MSE']), np.mean(result['test_MAE']))"
      ],
      "execution_count": 12,
      "outputs": [
        {
          "output_type": "stream",
          "text": [
            "standard 3.148504543304443 1.3177947282791138\n",
            "standard 3.1484719276428224 1.3175026655197144\n",
            "standard 3.154905080795288 1.3166768312454225\n",
            "standard 3.43039493560791 1.3688453435897827\n",
            "minmax 3.1514639377593996 1.3186271429061889\n",
            "minmax 3.2989612579345704 1.349585270881653\n",
            "minmax 4.963789939880371 1.7050907135009765\n",
            "minmax 7.695929431915284 2.177726411819458\n",
            "---------------------------------------------\n",
            "standard 6.196308135986328 1.925430965423584\n",
            "standard 10.457332992553711 2.5277214527130125\n",
            "standard 10.457332992553711 2.5277214527130125\n",
            "standard 10.457332992553711 2.5277214527130125\n",
            "minmax 10.457332992553711 2.5277214527130125\n",
            "minmax 10.457332992553711 2.5277214527130125\n",
            "minmax 10.457332992553711 2.5277214527130125\n",
            "minmax 10.457332992553711 2.5277214527130125\n"
          ],
          "name": "stdout"
        }
      ]
    },
    {
      "cell_type": "code",
      "metadata": {
        "colab": {
          "base_uri": "https://localhost:8080/"
        },
        "id": "BGX1vf7-QACr",
        "outputId": "f0fd6034-09d0-4ec7-c482-b2f9566f58ff"
      },
      "source": [
        "#4 \r\n",
        "from sklearn.linear_model import Ridge, Lasso\r\n",
        "from sklearn.model_selection import GridSearchCV\r\n",
        "from sklearn.pipeline import Pipeline\r\n",
        "from sklearn.preprocessing import MinMaxScaler, StandardScaler\r\n",
        "\r\n",
        "from itertools import product\r\n",
        "from sklearn.model_selection import cross_val_score\r\n",
        "\r\n",
        "pipeline_grid = {\r\n",
        "    'scale': [MinMaxScaler(), StandardScaler()],\r\n",
        "    'train': [Ridge(), Lasso()],\r\n",
        "}\r\n",
        "steps = ['scale', 'train']\r\n",
        "\r\n",
        "cv_grid = {\r\n",
        "    'train__alpha': [1, 10, 100, 1000]\r\n",
        "}\r\n",
        "\r\n",
        "def create_pipelines(pipeline_grid, steps):\r\n",
        "    combs = product(*[pipeline_grid[k] for k in steps])\r\n",
        "    args = [zip(steps, comb) for comb in combs]\r\n",
        "    pipelines = [Pipeline(list(arg)) for arg in args]\r\n",
        "    return pipelines\r\n",
        "\r\n",
        "for p in create_pipelines(pipeline_grid, steps):\r\n",
        "    res = GridSearchCV(p, param_grid=cv_grid, scoring='neg_mean_squared_error', \r\n",
        "                                cv=3, n_jobs=-1, verbose=0)\r\n",
        "    res.fit(X_train, y_train)\r\n",
        "    \r\n",
        "    print (f\"Variant {p}: {res.best_score_} {res.best_params_}\")\r\n",
        "    model = res.best_estimator_['train']\r\n",
        "    print (f\"Largetst coef: {np.argmax(model.coef_)}\")\r\n",
        "    print (f\"Smallest coef: {np.argmin(model.coef_)}\")\r\n",
        "    \r\n",
        "    cnt_0 = len([x for x in model.coef_ if x < 1e-3])\r\n",
        "    print (f\"Zero coefs: {cnt_0}\")"
      ],
      "execution_count": 14,
      "outputs": [
        {
          "output_type": "stream",
          "text": [
            "Variant Pipeline(memory=None,\n",
            "         steps=[('scale', MinMaxScaler(copy=True, feature_range=(0, 1))),\n",
            "                ('train',\n",
            "                 Ridge(alpha=1.0, copy_X=True, fit_intercept=True,\n",
            "                       max_iter=None, normalize=False, random_state=None,\n",
            "                       solver='auto', tol=0.001))],\n",
            "         verbose=False): -3.170071601867676 {'train__alpha': 1}\n",
            "Largetst coef: 4\n",
            "Smallest coef: 2\n",
            "Zero coefs: 8\n",
            "Variant Pipeline(memory=None,\n",
            "         steps=[('scale', MinMaxScaler(copy=True, feature_range=(0, 1))),\n",
            "                ('train',\n",
            "                 Lasso(alpha=1.0, copy_X=True, fit_intercept=True,\n",
            "                       max_iter=1000, normalize=False, positive=False,\n",
            "                       precompute=False, random_state=None, selection='cyclic',\n",
            "                       tol=0.0001, warm_start=False))],\n",
            "         verbose=False): -10.455515225728353 {'train__alpha': 1}\n",
            "Largetst coef: 0\n",
            "Smallest coef: 0\n",
            "Zero coefs: 14\n",
            "Variant Pipeline(memory=None,\n",
            "         steps=[('scale',\n",
            "                 StandardScaler(copy=True, with_mean=True, with_std=True)),\n",
            "                ('train',\n",
            "                 Ridge(alpha=1.0, copy_X=True, fit_intercept=True,\n",
            "                       max_iter=None, normalize=False, random_state=None,\n",
            "                       solver='auto', tol=0.001))],\n",
            "         verbose=False): -3.1657633781433105 {'train__alpha': 10}\n",
            "Largetst coef: 0\n",
            "Smallest coef: 2\n",
            "Zero coefs: 8\n",
            "Variant Pipeline(memory=None,\n",
            "         steps=[('scale',\n",
            "                 StandardScaler(copy=True, with_mean=True, with_std=True)),\n",
            "                ('train',\n",
            "                 Lasso(alpha=1.0, copy_X=True, fit_intercept=True,\n",
            "                       max_iter=1000, normalize=False, positive=False,\n",
            "                       precompute=False, random_state=None, selection='cyclic',\n",
            "                       tol=0.0001, warm_start=False))],\n",
            "         verbose=False): -6.191965103149414 {'train__alpha': 1}\n",
            "Largetst coef: 4\n",
            "Smallest coef: 1\n",
            "Zero coefs: 11\n"
          ],
          "name": "stdout"
        }
      ]
    }
  ]
}